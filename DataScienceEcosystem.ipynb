{
 "cells": [
  {
   "cell_type": "markdown",
   "id": "d274bc89-d945-46c6-8e1d-29bd5337995e",
   "metadata": {},
   "source": [
    "# Data Science Tools and Ecosystem"
   ]
  },
  {
   "cell_type": "markdown",
   "id": "bcd0b042-f70c-489a-936d-46f516ccebd7",
   "metadata": {},
   "source": [
    "In this notebook, Data Science Tools and Ecosystem are summarized."
   ]
  },
  {
   "cell_type": "markdown",
   "id": "e1b9ef87-4767-408f-9e71-15d7540a5125",
   "metadata": {},
   "source": [
    "Objectives:\n",
    "* List popular languages of Data Science\n",
    "* List popular libraries in Data Science\n",
    "* List Data Science tools\n",
    "* List examples of arithmetic expressions in python"
   ]
  },
  {
   "cell_type": "markdown",
   "id": "20a378ef-1440-488c-9693-a828cd71f70d",
   "metadata": {},
   "source": [
    "Some of the popular languages that Data Scientists use are:\n",
    "1. Python\n",
    "2. R\n",
    "3. C++\n",
    "4. Java\n",
    "5. SQL\n",
    "6. Javascript\n",
    "7. Scala\n",
    "8. Julia"
   ]
  },
  {
   "cell_type": "markdown",
   "id": "5b44d04b-88b8-497d-bc06-acea6bcf52c2",
   "metadata": {},
   "source": [
    "Some of the commonly used libraries used by Data Scientists include:\n",
    "1. Matplotlib\n",
    "2. ggplot\n",
    "3. pytorch\n",
    "4. TensorFlow\n",
    "5. Scikit-learn\n",
    "6. Caffe"
   ]
  },
  {
   "cell_type": "markdown",
   "id": "470819ae-6b89-45bb-9cd7-3d359e102733",
   "metadata": {},
   "source": [
    "|Data Science Tools|\n",
    "-----------------\n",
    "|RStudio|\n",
    "|JupyterLab|\n",
    "|IBM Watson Stidio|"
   ]
  },
  {
   "cell_type": "markdown",
   "id": "f96e39b6-19af-453c-bd19-934394b6c902",
   "metadata": {},
   "source": [
    "### Below are a few examples of evaluating arithmetic expressions in Python\n",
    "* Addition\n",
    "* Subtraction\n",
    "* Multiplication\n",
    "* Modulus\n",
    "* Division"
   ]
  },
  {
   "cell_type": "code",
   "execution_count": 5,
   "id": "9cb7b97a-38d8-4b3b-b369-8ddf48a5f67a",
   "metadata": {},
   "outputs": [
    {
     "name": "stdout",
     "output_type": "stream",
     "text": [
      "17\n"
     ]
    }
   ],
   "source": [
    "#This a simple arithmetic expression to mutiply then add integers\n",
    "print((3 * 4) + 5)"
   ]
  },
  {
   "cell_type": "code",
   "execution_count": 6,
   "id": "1b4dbf15-3a60-4377-a4af-c80b9611534c",
   "metadata": {},
   "outputs": [
    {
     "name": "stdout",
     "output_type": "stream",
     "text": [
      "3.3333333333333335\n"
     ]
    }
   ],
   "source": [
    "#This will convert 200 minutes to hours by diving by 60\n",
    "print(200 / 60)"
   ]
  },
  {
   "cell_type": "markdown",
   "id": "59aae327-f87f-467f-9363-b09dcf14a886",
   "metadata": {},
   "source": [
    "## Author\n",
    "Francis Bhandari"
   ]
  }
 ],
 "metadata": {
  "kernelspec": {
   "display_name": "Python 3 (ipykernel)",
   "language": "python",
   "name": "python3"
  },
  "language_info": {
   "codemirror_mode": {
    "name": "ipython",
    "version": 3
   },
   "file_extension": ".py",
   "mimetype": "text/x-python",
   "name": "python",
   "nbconvert_exporter": "python",
   "pygments_lexer": "ipython3",
   "version": "3.10.12"
  }
 },
 "nbformat": 4,
 "nbformat_minor": 5
}
